{
  "cells": [
    {
      "cell_type": "code",
      "execution_count": null,
      "metadata": {
        "id": "qHiq09DzH1uQ"
      },
      "outputs": [],
      "source": [
        "from FraudDetector import Bank_Account_Fraud_Detection"
      ]
    },
    {
      "cell_type": "markdown",
      "metadata": {
        "id": "T3E9MOQsH1uR"
      },
      "source": [
        "# Prepare Dataset for training"
      ]
    },
    {
      "cell_type": "code",
      "execution_count": null,
      "metadata": {
        "id": "0hspAVAjH1uR"
      },
      "outputs": [],
      "source": [
        "# Load Base.csv\n",
        "fraud_detector = Bank_Account_Fraud_Detection('data/')\n",
        "dataset = fraud_detector.load_data('Base')"
      ]
    },
    {
      "cell_type": "code",
      "execution_count": null,
      "metadata": {
        "colab": {
          "background_save": true,
          "base_uri": "https://localhost:8080/"
        },
        "id": "pWKHAqwFH1uR",
        "outputId": "b7690207-6f9b-45c5-ae5b-66f9957d6831"
      },
      "outputs": [
        {
          "data": {
            "text/html": [
              "\n",
              "\n",
              "  <div id=\"df-6ca87d7f-f75f-46fe-b5b0-d45e97b72b20\">\n",
              "    <div class=\"colab-df-container\">\n",
              "      <div>\n",
              "<style scoped>\n",
              "    .dataframe tbody tr th:only-of-type {\n",
              "        vertical-align: middle;\n",
              "    }\n",
              "\n",
              "    .dataframe tbody tr th {\n",
              "        vertical-align: top;\n",
              "    }\n",
              "\n",
              "    .dataframe thead th {\n",
              "        text-align: right;\n",
              "    }\n",
              "</style>\n",
              "<table border=\"1\" class=\"dataframe\">\n",
              "  <thead>\n",
              "    <tr style=\"text-align: right;\">\n",
              "      <th></th>\n",
              "      <th>fraud_bool</th>\n",
              "      <th>income</th>\n",
              "      <th>name_email_similarity</th>\n",
              "      <th>prev_address_months_count</th>\n",
              "      <th>current_address_months_count</th>\n",
              "      <th>customer_age</th>\n",
              "      <th>days_since_request</th>\n",
              "      <th>intended_balcon_amount</th>\n",
              "      <th>payment_type</th>\n",
              "      <th>zip_count_4w</th>\n",
              "      <th>velocity_6h</th>\n",
              "      <th>velocity_24h</th>\n",
              "      <th>velocity_4w</th>\n",
              "      <th>bank_branch_count_8w</th>\n",
              "      <th>date_of_birth_distinct_emails_4w</th>\n",
              "      <th>employment_status</th>\n",
              "      <th>credit_risk_score</th>\n",
              "      <th>email_is_free</th>\n",
              "      <th>housing_status</th>\n",
              "      <th>phone_home_valid</th>\n",
              "      <th>phone_mobile_valid</th>\n",
              "      <th>bank_months_count</th>\n",
              "      <th>has_other_cards</th>\n",
              "      <th>proposed_credit_limit</th>\n",
              "      <th>foreign_request</th>\n",
              "      <th>source</th>\n",
              "      <th>session_length_in_minutes</th>\n",
              "      <th>device_os</th>\n",
              "      <th>keep_alive_session</th>\n",
              "      <th>device_distinct_emails_8w</th>\n",
              "      <th>device_fraud_count</th>\n",
              "      <th>month</th>\n",
              "    </tr>\n",
              "  </thead>\n",
              "  <tbody>\n",
              "    <tr>\n",
              "      <th>0</th>\n",
              "      <td>1</td>\n",
              "      <td>0.9</td>\n",
              "      <td>0.166828</td>\n",
              "      <td>-1</td>\n",
              "      <td>88</td>\n",
              "      <td>50</td>\n",
              "      <td>0.020925</td>\n",
              "      <td>-1.331345</td>\n",
              "      <td>AA</td>\n",
              "      <td>769</td>\n",
              "      <td>10650.765523</td>\n",
              "      <td>3134.319630</td>\n",
              "      <td>3863.647740</td>\n",
              "      <td>1</td>\n",
              "      <td>6</td>\n",
              "      <td>CA</td>\n",
              "      <td>185</td>\n",
              "      <td>0</td>\n",
              "      <td>BA</td>\n",
              "      <td>1</td>\n",
              "      <td>0</td>\n",
              "      <td>24</td>\n",
              "      <td>0</td>\n",
              "      <td>500.0</td>\n",
              "      <td>0</td>\n",
              "      <td>INTERNET</td>\n",
              "      <td>3.888115</td>\n",
              "      <td>windows</td>\n",
              "      <td>0</td>\n",
              "      <td>1</td>\n",
              "      <td>0</td>\n",
              "      <td>7</td>\n",
              "    </tr>\n",
              "    <tr>\n",
              "      <th>1</th>\n",
              "      <td>1</td>\n",
              "      <td>0.9</td>\n",
              "      <td>0.296286</td>\n",
              "      <td>-1</td>\n",
              "      <td>144</td>\n",
              "      <td>50</td>\n",
              "      <td>0.005418</td>\n",
              "      <td>-0.816224</td>\n",
              "      <td>AB</td>\n",
              "      <td>366</td>\n",
              "      <td>534.047319</td>\n",
              "      <td>2670.918292</td>\n",
              "      <td>3124.298166</td>\n",
              "      <td>718</td>\n",
              "      <td>3</td>\n",
              "      <td>CA</td>\n",
              "      <td>259</td>\n",
              "      <td>1</td>\n",
              "      <td>BA</td>\n",
              "      <td>0</td>\n",
              "      <td>0</td>\n",
              "      <td>15</td>\n",
              "      <td>0</td>\n",
              "      <td>1500.0</td>\n",
              "      <td>0</td>\n",
              "      <td>INTERNET</td>\n",
              "      <td>31.798819</td>\n",
              "      <td>windows</td>\n",
              "      <td>0</td>\n",
              "      <td>1</td>\n",
              "      <td>0</td>\n",
              "      <td>7</td>\n",
              "    </tr>\n",
              "    <tr>\n",
              "      <th>2</th>\n",
              "      <td>1</td>\n",
              "      <td>0.9</td>\n",
              "      <td>0.044985</td>\n",
              "      <td>-1</td>\n",
              "      <td>132</td>\n",
              "      <td>40</td>\n",
              "      <td>3.108549</td>\n",
              "      <td>-0.755728</td>\n",
              "      <td>AC</td>\n",
              "      <td>870</td>\n",
              "      <td>4048.534263</td>\n",
              "      <td>2893.621498</td>\n",
              "      <td>3159.590679</td>\n",
              "      <td>1</td>\n",
              "      <td>14</td>\n",
              "      <td>CB</td>\n",
              "      <td>177</td>\n",
              "      <td>1</td>\n",
              "      <td>BA</td>\n",
              "      <td>0</td>\n",
              "      <td>1</td>\n",
              "      <td>-1</td>\n",
              "      <td>0</td>\n",
              "      <td>200.0</td>\n",
              "      <td>0</td>\n",
              "      <td>INTERNET</td>\n",
              "      <td>4.728705</td>\n",
              "      <td>other</td>\n",
              "      <td>0</td>\n",
              "      <td>1</td>\n",
              "      <td>0</td>\n",
              "      <td>7</td>\n",
              "    </tr>\n",
              "    <tr>\n",
              "      <th>3</th>\n",
              "      <td>1</td>\n",
              "      <td>0.9</td>\n",
              "      <td>0.159511</td>\n",
              "      <td>-1</td>\n",
              "      <td>22</td>\n",
              "      <td>50</td>\n",
              "      <td>0.019079</td>\n",
              "      <td>-1.205124</td>\n",
              "      <td>AB</td>\n",
              "      <td>810</td>\n",
              "      <td>3457.064063</td>\n",
              "      <td>4054.908412</td>\n",
              "      <td>3022.261812</td>\n",
              "      <td>1921</td>\n",
              "      <td>6</td>\n",
              "      <td>CA</td>\n",
              "      <td>110</td>\n",
              "      <td>1</td>\n",
              "      <td>BA</td>\n",
              "      <td>0</td>\n",
              "      <td>1</td>\n",
              "      <td>31</td>\n",
              "      <td>1</td>\n",
              "      <td>200.0</td>\n",
              "      <td>0</td>\n",
              "      <td>INTERNET</td>\n",
              "      <td>2.047904</td>\n",
              "      <td>linux</td>\n",
              "      <td>0</td>\n",
              "      <td>1</td>\n",
              "      <td>0</td>\n",
              "      <td>7</td>\n",
              "    </tr>\n",
              "    <tr>\n",
              "      <th>4</th>\n",
              "      <td>1</td>\n",
              "      <td>0.9</td>\n",
              "      <td>0.596414</td>\n",
              "      <td>-1</td>\n",
              "      <td>218</td>\n",
              "      <td>50</td>\n",
              "      <td>0.004441</td>\n",
              "      <td>-0.773276</td>\n",
              "      <td>AB</td>\n",
              "      <td>890</td>\n",
              "      <td>5020.341679</td>\n",
              "      <td>2728.237159</td>\n",
              "      <td>3087.670952</td>\n",
              "      <td>1990</td>\n",
              "      <td>2</td>\n",
              "      <td>CA</td>\n",
              "      <td>295</td>\n",
              "      <td>1</td>\n",
              "      <td>BA</td>\n",
              "      <td>1</td>\n",
              "      <td>0</td>\n",
              "      <td>31</td>\n",
              "      <td>0</td>\n",
              "      <td>1500.0</td>\n",
              "      <td>0</td>\n",
              "      <td>INTERNET</td>\n",
              "      <td>3.775225</td>\n",
              "      <td>macintosh</td>\n",
              "      <td>1</td>\n",
              "      <td>1</td>\n",
              "      <td>0</td>\n",
              "      <td>7</td>\n",
              "    </tr>\n",
              "  </tbody>\n",
              "</table>\n",
              "</div>\n",
              "      <button class=\"colab-df-convert\" onclick=\"convertToInteractive('df-6ca87d7f-f75f-46fe-b5b0-d45e97b72b20')\"\n",
              "              title=\"Convert this dataframe to an interactive table.\"\n",
              "              style=\"display:none;\">\n",
              "\n",
              "  <svg xmlns=\"http://www.w3.org/2000/svg\" height=\"24px\"viewBox=\"0 0 24 24\"\n",
              "       width=\"24px\">\n",
              "    <path d=\"M0 0h24v24H0V0z\" fill=\"none\"/>\n",
              "    <path d=\"M18.56 5.44l.94 2.06.94-2.06 2.06-.94-2.06-.94-.94-2.06-.94 2.06-2.06.94zm-11 1L8.5 8.5l.94-2.06 2.06-.94-2.06-.94L8.5 2.5l-.94 2.06-2.06.94zm10 10l.94 2.06.94-2.06 2.06-.94-2.06-.94-.94-2.06-.94 2.06-2.06.94z\"/><path d=\"M17.41 7.96l-1.37-1.37c-.4-.4-.92-.59-1.43-.59-.52 0-1.04.2-1.43.59L10.3 9.45l-7.72 7.72c-.78.78-.78 2.05 0 2.83L4 21.41c.39.39.9.59 1.41.59.51 0 1.02-.2 1.41-.59l7.78-7.78 2.81-2.81c.8-.78.8-2.07 0-2.86zM5.41 20L4 18.59l7.72-7.72 1.47 1.35L5.41 20z\"/>\n",
              "  </svg>\n",
              "      </button>\n",
              "\n",
              "\n",
              "\n",
              "    <div id=\"df-92967e9f-ad2b-49cc-a29e-52e0649f02bf\">\n",
              "      <button class=\"colab-df-quickchart\" onclick=\"quickchart('df-92967e9f-ad2b-49cc-a29e-52e0649f02bf')\"\n",
              "              title=\"Suggest charts.\"\n",
              "              style=\"display:none;\">\n",
              "\n",
              "<svg xmlns=\"http://www.w3.org/2000/svg\" height=\"24px\"viewBox=\"0 0 24 24\"\n",
              "     width=\"24px\">\n",
              "    <g>\n",
              "        <path d=\"M19 3H5c-1.1 0-2 .9-2 2v14c0 1.1.9 2 2 2h14c1.1 0 2-.9 2-2V5c0-1.1-.9-2-2-2zM9 17H7v-7h2v7zm4 0h-2V7h2v10zm4 0h-2v-4h2v4z\"/>\n",
              "    </g>\n",
              "</svg>\n",
              "      </button>\n",
              "    </div>\n",
              "\n",
              "<style>\n",
              "  .colab-df-quickchart {\n",
              "    background-color: #E8F0FE;\n",
              "    border: none;\n",
              "    border-radius: 50%;\n",
              "    cursor: pointer;\n",
              "    display: none;\n",
              "    fill: #1967D2;\n",
              "    height: 32px;\n",
              "    padding: 0 0 0 0;\n",
              "    width: 32px;\n",
              "  }\n",
              "\n",
              "  .colab-df-quickchart:hover {\n",
              "    background-color: #E2EBFA;\n",
              "    box-shadow: 0px 1px 2px rgba(60, 64, 67, 0.3), 0px 1px 3px 1px rgba(60, 64, 67, 0.15);\n",
              "    fill: #174EA6;\n",
              "  }\n",
              "\n",
              "  [theme=dark] .colab-df-quickchart {\n",
              "    background-color: #3B4455;\n",
              "    fill: #D2E3FC;\n",
              "  }\n",
              "\n",
              "  [theme=dark] .colab-df-quickchart:hover {\n",
              "    background-color: #434B5C;\n",
              "    box-shadow: 0px 1px 3px 1px rgba(0, 0, 0, 0.15);\n",
              "    filter: drop-shadow(0px 1px 2px rgba(0, 0, 0, 0.3));\n",
              "    fill: #FFFFFF;\n",
              "  }\n",
              "</style>\n",
              "\n",
              "    <script>\n",
              "      async function quickchart(key) {\n",
              "        const containerElement = document.querySelector('#' + key);\n",
              "        const charts = await google.colab.kernel.invokeFunction(\n",
              "            'suggestCharts', [key], {});\n",
              "      }\n",
              "    </script>\n",
              "\n",
              "      <script>\n",
              "\n",
              "function displayQuickchartButton(domScope) {\n",
              "  let quickchartButtonEl =\n",
              "    domScope.querySelector('#df-92967e9f-ad2b-49cc-a29e-52e0649f02bf button.colab-df-quickchart');\n",
              "  quickchartButtonEl.style.display =\n",
              "    google.colab.kernel.accessAllowed ? 'block' : 'none';\n",
              "}\n",
              "\n",
              "        displayQuickchartButton(document);\n",
              "      </script>\n",
              "      <style>\n",
              "    .colab-df-container {\n",
              "      display:flex;\n",
              "      flex-wrap:wrap;\n",
              "      gap: 12px;\n",
              "    }\n",
              "\n",
              "    .colab-df-convert {\n",
              "      background-color: #E8F0FE;\n",
              "      border: none;\n",
              "      border-radius: 50%;\n",
              "      cursor: pointer;\n",
              "      display: none;\n",
              "      fill: #1967D2;\n",
              "      height: 32px;\n",
              "      padding: 0 0 0 0;\n",
              "      width: 32px;\n",
              "    }\n",
              "\n",
              "    .colab-df-convert:hover {\n",
              "      background-color: #E2EBFA;\n",
              "      box-shadow: 0px 1px 2px rgba(60, 64, 67, 0.3), 0px 1px 3px 1px rgba(60, 64, 67, 0.15);\n",
              "      fill: #174EA6;\n",
              "    }\n",
              "\n",
              "    [theme=dark] .colab-df-convert {\n",
              "      background-color: #3B4455;\n",
              "      fill: #D2E3FC;\n",
              "    }\n",
              "\n",
              "    [theme=dark] .colab-df-convert:hover {\n",
              "      background-color: #434B5C;\n",
              "      box-shadow: 0px 1px 3px 1px rgba(0, 0, 0, 0.15);\n",
              "      filter: drop-shadow(0px 1px 2px rgba(0, 0, 0, 0.3));\n",
              "      fill: #FFFFFF;\n",
              "    }\n",
              "  </style>\n",
              "\n",
              "      <script>\n",
              "        const buttonEl =\n",
              "          document.querySelector('#df-6ca87d7f-f75f-46fe-b5b0-d45e97b72b20 button.colab-df-convert');\n",
              "        buttonEl.style.display =\n",
              "          google.colab.kernel.accessAllowed ? 'block' : 'none';\n",
              "\n",
              "        async function convertToInteractive(key) {\n",
              "          const element = document.querySelector('#df-6ca87d7f-f75f-46fe-b5b0-d45e97b72b20');\n",
              "          const dataTable =\n",
              "            await google.colab.kernel.invokeFunction('convertToInteractive',\n",
              "                                                     [key], {});\n",
              "          if (!dataTable) return;\n",
              "\n",
              "          const docLinkHtml = 'Like what you see? Visit the ' +\n",
              "            '<a target=\"_blank\" href=https://colab.research.google.com/notebooks/data_table.ipynb>data table notebook</a>'\n",
              "            + ' to learn more about interactive tables.';\n",
              "          element.innerHTML = '';\n",
              "          dataTable['output_type'] = 'display_data';\n",
              "          await google.colab.output.renderOutput(dataTable, element);\n",
              "          const docLink = document.createElement('div');\n",
              "          docLink.innerHTML = docLinkHtml;\n",
              "          element.appendChild(docLink);\n",
              "        }\n",
              "      </script>\n",
              "    </div>\n",
              "  </div>\n"
            ],
            "text/plain": [
              "   fraud_bool  income  name_email_similarity  prev_address_months_count  \\\n",
              "0           1     0.9               0.166828                         -1   \n",
              "1           1     0.9               0.296286                         -1   \n",
              "2           1     0.9               0.044985                         -1   \n",
              "3           1     0.9               0.159511                         -1   \n",
              "4           1     0.9               0.596414                         -1   \n",
              "\n",
              "   current_address_months_count  customer_age  days_since_request  \\\n",
              "0                            88            50            0.020925   \n",
              "1                           144            50            0.005418   \n",
              "2                           132            40            3.108549   \n",
              "3                            22            50            0.019079   \n",
              "4                           218            50            0.004441   \n",
              "\n",
              "   intended_balcon_amount payment_type  zip_count_4w   velocity_6h  \\\n",
              "0               -1.331345           AA           769  10650.765523   \n",
              "1               -0.816224           AB           366    534.047319   \n",
              "2               -0.755728           AC           870   4048.534263   \n",
              "3               -1.205124           AB           810   3457.064063   \n",
              "4               -0.773276           AB           890   5020.341679   \n",
              "\n",
              "   velocity_24h  velocity_4w  bank_branch_count_8w  \\\n",
              "0   3134.319630  3863.647740                     1   \n",
              "1   2670.918292  3124.298166                   718   \n",
              "2   2893.621498  3159.590679                     1   \n",
              "3   4054.908412  3022.261812                  1921   \n",
              "4   2728.237159  3087.670952                  1990   \n",
              "\n",
              "   date_of_birth_distinct_emails_4w employment_status  credit_risk_score  \\\n",
              "0                                 6                CA                185   \n",
              "1                                 3                CA                259   \n",
              "2                                14                CB                177   \n",
              "3                                 6                CA                110   \n",
              "4                                 2                CA                295   \n",
              "\n",
              "   email_is_free housing_status  phone_home_valid  phone_mobile_valid  \\\n",
              "0              0             BA                 1                   0   \n",
              "1              1             BA                 0                   0   \n",
              "2              1             BA                 0                   1   \n",
              "3              1             BA                 0                   1   \n",
              "4              1             BA                 1                   0   \n",
              "\n",
              "   bank_months_count  has_other_cards  proposed_credit_limit  foreign_request  \\\n",
              "0                 24                0                  500.0                0   \n",
              "1                 15                0                 1500.0                0   \n",
              "2                 -1                0                  200.0                0   \n",
              "3                 31                1                  200.0                0   \n",
              "4                 31                0                 1500.0                0   \n",
              "\n",
              "     source  session_length_in_minutes  device_os  keep_alive_session  \\\n",
              "0  INTERNET                   3.888115    windows                   0   \n",
              "1  INTERNET                  31.798819    windows                   0   \n",
              "2  INTERNET                   4.728705      other                   0   \n",
              "3  INTERNET                   2.047904      linux                   0   \n",
              "4  INTERNET                   3.775225  macintosh                   1   \n",
              "\n",
              "   device_distinct_emails_8w  device_fraud_count  month  \n",
              "0                          1                   0      7  \n",
              "1                          1                   0      7  \n",
              "2                          1                   0      7  \n",
              "3                          1                   0      7  \n",
              "4                          1                   0      7  "
            ]
          },
          "execution_count": 9,
          "metadata": {},
          "output_type": "execute_result"
        }
      ],
      "source": [
        "#first 5 samples\n",
        "dataset.head()"
      ]
    },
    {
      "cell_type": "code",
      "execution_count": null,
      "metadata": {
        "colab": {
          "background_save": true,
          "base_uri": "https://localhost:8080/"
        },
        "id": "m-EclhwXH1uS",
        "outputId": "8781237d-6cdc-4505-a066-45ed32b7a1f6"
      },
      "outputs": [
        {
          "data": {
            "text/plain": [
              "(1000000, 32)"
            ]
          },
          "execution_count": 10,
          "metadata": {},
          "output_type": "execute_result"
        }
      ],
      "source": [
        "#get dimension\n",
        "dataset.shape"
      ]
    },
    {
      "cell_type": "markdown",
      "metadata": {
        "id": "_IAy0JHnH1uS"
      },
      "source": [
        "# Get insight"
      ]
    },
    {
      "cell_type": "markdown",
      "metadata": {
        "id": "Hs0_XKXkH1uS"
      },
      "source": [
        "While reading \"https://github.com/feedzai/bank-account-fraud/blob/main/documents/datasheet.pdf\"\n",
        "I found that each featue with its discribtion,datatype,ranges & if its contain null values or not so I make sure that the columns has the same information or not ,if it contains different values ,I consider their as outliers or noise"
      ]
    },
    {
      "cell_type": "code",
      "execution_count": null,
      "metadata": {
        "id": "b7HDLjkgH1uS"
      },
      "outputs": [],
      "source": [
        "# show Descriptive Statistics with unique & frequent\n",
        "fraud_detector.EDA('description')"
      ]
    },
    {
      "cell_type": "code",
      "execution_count": null,
      "metadata": {
        "id": "GHCZAh9hH1uT"
      },
      "outputs": [],
      "source": [
        "fraud_detector.EDA('info')"
      ]
    },
    {
      "cell_type": "markdown",
      "metadata": {
        "id": "W3KyOcwPH1uT"
      },
      "source": [
        "# Exploratory Data Analysis"
      ]
    },
    {
      "cell_type": "code",
      "execution_count": null,
      "metadata": {
        "id": "DnQHHX9fH1uT"
      },
      "outputs": [],
      "source": [
        "fraud_detector.EDA('frauds')"
      ]
    },
    {
      "cell_type": "markdown",
      "metadata": {
        "id": "qbQLOl_uH1uT"
      },
      "source": [
        "**Features Notes:**<br>\n",
        "* **prev_address_months_count (numeric):** Number of months in previous registered address of the applicant, i.e. the applicant’s previous residence, if applicable. Ranges between [−1, 380] months  <font color='red'>**(-1 is a missing value)**</font> .\n",
        "* **current_address_months_count (numeric):**  Months in currently registered address of the applicant. Ranges between [−1, 429] months <font color='red'>**(-1 is a missing value)**</font> .\n",
        "* **intended_balcon_amount (numeric):** Initial transferred amount for application.Ranges between [−16, 114] <font color='red'>**(negatives are missing values)**</font> .\n",
        "* **bank_months_count (numeric):** How old is previous account (if held) in months. Ranges between [−1, 32] months <font color='red'>**(-1 is a missing value)**</font> .\n",
        "* **session_length_in_minutes (numeric):** Length of user session in banking website in minutes. Ranges between [−1, 107] minutes <font color='red'>**(-1 is a missing value)**</font> .\n",
        "* **device_distinct_emails (numeric):** Number of distinct emails in banking website from the used device in last 8 weeks. Ranges between [−1, 2] emails <font color='red'>**(-1 is a missing value)**</font> .\n",
        "\n"
      ]
    },
    {
      "cell_type": "code",
      "execution_count": null,
      "metadata": {
        "id": "hG3LujcZH1uU"
      },
      "outputs": [],
      "source": [
        "fraud_detector.preprocess(option='option1', fet_eng=False)"
      ]
    },
    {
      "cell_type": "code",
      "execution_count": null,
      "metadata": {
        "id": "ijT7R_6YH1uV"
      },
      "outputs": [],
      "source": [
        "fraud_detector.EDA('correlation')"
      ]
    },
    {
      "cell_type": "markdown",
      "metadata": {
        "id": "hCGEm4FdH1uW"
      },
      "source": [
        "# With Feature Engineering"
      ]
    },
    {
      "cell_type": "code",
      "execution_count": null,
      "metadata": {
        "id": "TSbj-jeSH1uW"
      },
      "outputs": [],
      "source": [
        "detector_w_fet_eng = Bank_Account_Fraud_Detection('data/')\n",
        "_ = detector_w_fet_eng.load_data('Base')"
      ]
    },
    {
      "cell_type": "code",
      "execution_count": null,
      "metadata": {
        "id": "Rg9-FUtyH1uW"
      },
      "outputs": [],
      "source": [
        "detector_w_fet_eng.preprocess(option='option1', fet_eng=True)"
      ]
    },
    {
      "cell_type": "code",
      "execution_count": null,
      "metadata": {
        "id": "HE_ognhXH1uW"
      },
      "outputs": [],
      "source": [
        "detector_w_fet_eng.EDA('correlation')"
      ]
    },
    {
      "cell_type": "markdown",
      "metadata": {
        "id": "gP6FedEcH1uX"
      },
      "source": [
        "## **Summerization of preprocessing on Dataset:**\n",
        "1. While reading \"https://github.com/feedzai/bank-account-fraud/blob/main/documents/datasheet.pdf\"\n",
        "I found that each featue with its discribtion,datatype,ranges & if its contain null values or not so I make sure that the columns has the same information or not ,if it contains different values ,I consider their as outliers or noise\n",
        "2.I found missing values in datasets buts with values not as nan values ,so I try to clean the dataset :<br>\n",
        "> * **prev_address_months_count (numeric):** Number of months in previous registered address of the applicant, i.e. the applicant’s previous residence, if applicable. Ranges between [−1, 380] months  <font color='red'>**(-1 is a missing value)**</font> .\n",
        "> * **current_address_months_count (numeric):**  Months in currently registered address of the applicant. Ranges between [−1, 429] months <font color='red'>**(-1 is a missing value)**</font> .\n",
        ">* **intended_balcon_amount (numeric):** Initial transferred amount for application.Ranges between [−16, 114] <font color='red'>**(negatives are missing values)**</font> .\n",
        ">* **bank_months_count (numeric):** How old is previous account (if held) in months. Ranges between [−1, 32] months <font color='red'>**(-1 is a missing value)**</font> .\n",
        ">* **session_length_in_minutes (numeric):** Length of user session in banking website in minutes. Ranges between [−1, 107] minutes <font color='red'>**(-1 is a missing value)**</font> .\n",
        ">* **device_distinct_emails (numeric):** Number of distinct emails in banking website from the used device in last 8 weeks. Ranges between [−1, 2] emails <font color='red'>**(-1 is a missing value)**</font> .\n",
        "\n",
        "3. Drop the columns has correlations that exceed 70% of null values\n",
        "4. Using Visualization to show the which Mechanisms of Missing Data in dataset\n",
        "5. Fill the nan values of 'session_length_in_minutes' & 'device_distinct_emails_8w' with mean\n",
        "6. Make IterativeImputer on 'current_address_months_count' & 'bank_months_count' columns\n",
        "7. Convert object columns to category data type\n",
        "8. Show the correlations between Categorical columns data type\n",
        "9. Show the correlations between Numerical columns data type\n",
        "10. There are high correlation between velocity_4w & month with 85%\n",
        "11. Make Feature Engineering :\n",
        ">* Convert **income** column from continous values into categorical values (Low income,Medium income & High income )\n",
        ">* Convert **customer_age** column from continous values into categorical values (Child/Teenager,Young Adult,Middle-Aged & Senior Citizen )\n",
        ">* Take the average of velocity from two columns **velocity_6h & velocity_24h** then convet into categorical values(Low Velocity,Moderate Velocity & High Velocity)\n",
        ">* Combine **phone_home_valid & phone_mobile_valid** columns into one column (binary) which mean at least one contact phone or mobile has a number will get true value\n",
        "12. Repeat the step 8. & 9. with Feature engineering\n",
        "13. Drop the column that has high correlation which proposed_credit_limit & credit_risk_score is 61% correlation\n",
        "14. Apply one-hot encoding with drop_first=True directly to categorical columns"
      ]
    },
    {
      "cell_type": "markdown",
      "metadata": {
        "id": "loTcWMRyH1uX"
      },
      "source": [
        "## Train-Test-Split"
      ]
    },
    {
      "cell_type": "code",
      "execution_count": null,
      "metadata": {
        "id": "a9EIgJToH1uX"
      },
      "outputs": [],
      "source": [
        "detector_w_fet_eng.train_test_split()"
      ]
    },
    {
      "cell_type": "markdown",
      "metadata": {
        "id": "lullCsWzH1uX"
      },
      "source": [
        "## Handling The Bias Of Dataset (Data resampling techniques)"
      ]
    },
    {
      "cell_type": "markdown",
      "metadata": {
        "id": "JUjiI-NOH1uY"
      },
      "source": [
        "### UnderSampling"
      ]
    },
    {
      "cell_type": "markdown",
      "metadata": {
        "id": "fehUZkMiH1uY"
      },
      "source": [
        "#### The NearMiss technique\n",
        "it is a kind of controlled under-sampling technique. It has some rules additional to RandomUnderSampler.<br>\n",
        "NearMiss-3 is a 2-steps algorithm. First, for each negative sample, their m nearest-neighbors will be kept. Then, the positive samples selected are the ones for which the average distance to the k nearest-neighbors is the largest."
      ]
    },
    {
      "cell_type": "code",
      "execution_count": null,
      "metadata": {
        "id": "xZhJZyFHH1uY"
      },
      "outputs": [],
      "source": [
        "detector_w_fet_eng.handle_imbalance('NearMiss')"
      ]
    },
    {
      "cell_type": "markdown",
      "metadata": {
        "id": "n6IkbC9fH1uY"
      },
      "source": [
        "#### Random undersampling\n",
        "RandomUnderSampler randomly deletes the rows of the majority class(es) according to our sampling strategy.it is a fast and easy way to balance the data by randomly selecting a subset of data for the targeted classes"
      ]
    },
    {
      "cell_type": "code",
      "execution_count": null,
      "metadata": {
        "id": "pZ0A__4RH1uY"
      },
      "outputs": [],
      "source": [
        "detector_w_fet_eng.handle_imbalance('Random-Undersampling')"
      ]
    },
    {
      "cell_type": "markdown",
      "metadata": {
        "id": "qJZ6GdCkH1uZ"
      },
      "source": [
        "### Oversampling"
      ]
    },
    {
      "cell_type": "markdown",
      "metadata": {
        "id": "vLSV6dCoH1uZ"
      },
      "source": [
        "#### Random oversampling\n",
        "Random Oversampling includes selecting random examples from the minority class with replacement and supplementing the training data with multiple copies of this instance"
      ]
    },
    {
      "cell_type": "code",
      "execution_count": null,
      "metadata": {
        "id": "X-DvzcQDH1uZ"
      },
      "outputs": [],
      "source": [
        "detector_w_fet_eng.handle_imbalance('Random-Oversampling')"
      ]
    },
    {
      "cell_type": "markdown",
      "metadata": {
        "id": "RXHdubxlH1uZ"
      },
      "source": [
        "#### The SMOTE technique\n",
        "SMOTE is an oversampling technique where the synthetic samples are generated for the minority class. This algorithm helps to overcome the overfitting problem posed by random oversampling. It focuses on the feature space to generate new instances with the help of interpolation between the positive instances that lie together."
      ]
    },
    {
      "cell_type": "code",
      "execution_count": null,
      "metadata": {
        "id": "sPdJPx2rH1uZ"
      },
      "outputs": [],
      "source": [
        "detector_w_fet_eng.handle_imbalance('SMOTE')"
      ]
    },
    {
      "cell_type": "markdown",
      "metadata": {
        "id": "fskd2TixH1ua"
      },
      "source": [
        "#### The Borderline SMOTE technique\n",
        "where the synthetic data are created randomly between the two data, Borderline-SMOTE only makes synthetic data along the decision boundary between the two classes."
      ]
    },
    {
      "cell_type": "code",
      "execution_count": null,
      "metadata": {
        "id": "ShsBR0BrH1ua"
      },
      "outputs": [],
      "source": [
        "detector_w_fet_eng.handle_imbalance('Borderline-SMOTE')"
      ]
    },
    {
      "cell_type": "markdown",
      "metadata": {
        "id": "_MrmpN-IH1uc"
      },
      "source": [
        "## Model Creation\n",
        "### Baseline Models\n",
        "Trying some baseline models to estimate a baseline score. Note that class-wheights are set for all the models to achieve higher predictive equality"
      ]
    },
    {
      "cell_type": "markdown",
      "metadata": {
        "id": "OoR-1QDHH1uc"
      },
      "source": [
        "### LogisticRegression"
      ]
    },
    {
      "cell_type": "code",
      "execution_count": null,
      "metadata": {
        "id": "t23lxFqZH1uc"
      },
      "outputs": [],
      "source": [
        "fprs_list = []\n",
        "tprs_list = []\n",
        "model_names = []\n",
        "\n",
        "# LogisticRegression Model\n",
        "#Oversampling\n",
        "detector_over = Bank_Account_Fraud_Detection('data/')\n",
        "_ = detector_over.load_data('Base')\n",
        "detector_over.preprocess(option='option1', fet_eng=True)\n",
        "detector_over.handle_imbalance('Random-Oversampling')\n",
        "pred = detector_over.fit_baseline('LR')\n",
        "fprs, tprs = detector_over.evaluate(pred, 'LR Baseline with Random Oversampling')\n",
        "fprs_list.append(fprs)\n",
        "tprs_list.append(tprs)\n",
        "model_names.append('LR Baseline with Random Oversampling')\n",
        "\n",
        "#SMOTE\n",
        "detector_smote = Bank_Account_Fraud_Detection('data/')\n",
        "_ = detector_smote.load_data('Base')\n",
        "detector_smote.preprocess(option='option1', fet_eng=True)\n",
        "detector_smote.handle_imbalance('SMOTE')\n",
        "pred = detector_smote.fit_baseline('LR')\n",
        "fprs, tprs = detector_smote.evaluate(pred, 'LR Baseline with SMOTE')\n",
        "fprs_list.append(fprs)\n",
        "tprs_list.append(tprs)\n",
        "model_names.append('LR Baseline with SMOTE')\n",
        "\n",
        "\n",
        "#BorderlineSMOTE\n",
        "detector_bordersmote = Bank_Account_Fraud_Detection('data/')\n",
        "_ = detector_bordersmote.load_data('Base')\n",
        "detector_bordersmote.preprocess(option='option1', fet_eng=True)\n",
        "detector_bordersmote.handle_imbalance('Borderline-SMOTE')\n",
        "pred = detector_bordersmote.fit_baseline('LR')\n",
        "fprs, tprs = detector_bordersmote.evaluate(pred, 'LR Baseline with Borderline-SMOTE')\n",
        "fprs_list.append(fprs)\n",
        "tprs_list.append(tprs)\n",
        "model_names.append('LR Baseline with Borderline-SMOTE')\n",
        "\n",
        "#NearMiss\n",
        "detector_nearmiss = Bank_Account_Fraud_Detection('data/')\n",
        "_ = detector_nearmiss.load_data('Base')\n",
        "detector_nearmiss.preprocess(option='option1', fet_eng=True)\n",
        "detector_nearmiss.handle_imbalance('NearMiss')\n",
        "pred = detector_nearmiss.fit_baseline('LR')\n",
        "fprs, tprs = detector_nearmiss.evaluate(pred, 'LR Baseline with NearMiss')\n",
        "fprs_list.append(fprs)\n",
        "tprs_list.append(tprs)\n",
        "model_names.append('LR Baseline with NearMiss')\n",
        "\n",
        "#UnderSampling\n",
        "detector_under = Bank_Account_Fraud_Detection('data/')\n",
        "_ = detector_under.load_data('Base')\n",
        "detector_under.preprocess(option='option1', fet_eng=True)\n",
        "detector_under.handle_imbalance('Random-Undersampling')\n",
        "pred = detector_under.fit_baseline('LR')\n",
        "fprs, tprs = detector_under.evaluate(pred, 'LR Baseline with NearMiss')\n",
        "fprs_list.append(fprs)\n",
        "tprs_list.append(tprs)\n",
        "model_names.append('LR Baseline with NearMiss')\n",
        "\n",
        "# Plot all ROC curves together in one figure\n",
        "detector_under.plot_all_roc(fprs_list, tprs_list, model_names)"
      ]
    },
    {
      "cell_type": "markdown",
      "metadata": {
        "id": "ocoib49DH1uc"
      },
      "source": [
        "### XGBClassifier"
      ]
    },
    {
      "cell_type": "code",
      "execution_count": null,
      "metadata": {
        "id": "1uDJk-pEH1ud"
      },
      "outputs": [],
      "source": [
        "fprs_list = []\n",
        "tprs_list = []\n",
        "model_names = []\n",
        "\n",
        "#XGBClassifier Model\n",
        "#Oversampling\n",
        "pred = detector_over.fit_baseline('XGB')\n",
        "fprs, tprs = detector_over.evaluate(pred, 'XGB Baseline with Random Oversampling')\n",
        "fprs_list.append(fprs)\n",
        "tprs_list.append(tprs)\n",
        "model_names.append('XGB Baseline with Random Oversampling')\n",
        "\n",
        "#SMOTE\n",
        "pred = detector_smote.fit_baseline('XGB')\n",
        "fprs, tprs = detector_smote.evaluate(pred, 'XGB Baseline with SMOTE')\n",
        "fprs_list.append(fprs)\n",
        "tprs_list.append(tprs)\n",
        "model_names.append('XGB Baseline with SMOTE')\n",
        "\n",
        "\n",
        "#BorderlineSMOTE\n",
        "pred = detector_bordersmote.fit_baseline('XGB')\n",
        "fprs, tprs = detector_bordersmote.evaluate(pred, 'XGB Baseline with Borderline-SMOTE')\n",
        "fprs_list.append(fprs)\n",
        "tprs_list.append(tprs)\n",
        "model_names.append('XGB Baseline with Borderline-SMOTE')\n",
        "\n",
        "#NearMiss\n",
        "pred = detector_nearmiss.fit_baseline('XGB')\n",
        "fprs, tprs = detector_nearmiss.evaluate(pred, 'XGB Baseline with NearMiss')\n",
        "fprs_list.append(fprs)\n",
        "tprs_list.append(tprs)\n",
        "model_names.append('XGB Baseline with NearMiss')\n",
        "\n",
        "#UnderSampling\n",
        "pred = detector_under.fit_baseline('XGB')\n",
        "fprs, tprs = detector_under.evaluate(pred, 'XGB Baseline with Random Undersampling')\n",
        "fprs_list.append(fprs)\n",
        "tprs_list.append(tprs)\n",
        "model_names.append('XGB Baseline with Random Undersampling')\n",
        "\n",
        "# Plot all ROC curves together in one figure\n",
        "detector_under.plot_all_roc(fprs_list, tprs_list, model_names)"
      ]
    },
    {
      "cell_type": "markdown",
      "metadata": {
        "id": "S00WxwRdH1ud"
      },
      "source": [
        "### RandomForestClassifier"
      ]
    },
    {
      "cell_type": "code",
      "execution_count": null,
      "metadata": {
        "id": "ZoIx92XlH1ud"
      },
      "outputs": [],
      "source": [
        "fprs_list = []\n",
        "tprs_list = []\n",
        "model_names = []\n",
        "#RandomForestClassifier Model\n",
        "#Oversampling\n",
        "pred = detector_over.fit_baseline('RF')\n",
        "fprs, tprs = detector_over.evaluate(pred, 'RF Baseline with Random Oversampling')\n",
        "fprs_list.append(fprs)\n",
        "tprs_list.append(tprs)\n",
        "model_names.append('RF Baseline with Random Oversampling')\n",
        "\n",
        "#SMOTE\n",
        "pred = detector_smote.fit_baseline('RF')\n",
        "fprs, tprs = detector_smote.evaluate(pred, 'RF Baseline with SMOTE')\n",
        "fprs_list.append(fprs)\n",
        "tprs_list.append(tprs)\n",
        "model_names.append('RF Baseline with SMOTE')\n",
        "\n",
        "\n",
        "#BorderlineSMOTE\n",
        "pred = detector_bordersmote.fit_baseline('RF')\n",
        "fprs, tprs = detector_bordersmote.evaluate(pred, 'RF Baseline with Borderline-SMOTE')\n",
        "fprs_list.append(fprs)\n",
        "tprs_list.append(tprs)\n",
        "model_names.append('RF Baseline with Borderline-SMOTE')\n",
        "\n",
        "#NearMiss\n",
        "pred = detector_nearmiss.fit_baseline('RF')\n",
        "fprs, tprs = detector_nearmiss.evaluate(pred, 'RF Baseline with NearMiss')\n",
        "fprs_list.append(fprs)\n",
        "tprs_list.append(tprs)\n",
        "model_names.append('RF Baseline with NearMiss')\n",
        "\n",
        "#UnderSampling\n",
        "pred = detector_under.fit_baseline('RF')\n",
        "fprs, tprs = detector_under.evaluate(pred, 'RF Baseline with Random Undersampling')\n",
        "fprs_list.append(fprs)\n",
        "tprs_list.append(tprs)\n",
        "model_names.append('RF Baseline with Random Undersampling')\n",
        "\n",
        "# Plot all ROC curves together in one figure\n",
        "detector_under.plot_all_roc(fprs_list, tprs_list, model_names)"
      ]
    },
    {
      "cell_type": "markdown",
      "metadata": {
        "id": "mWsUfd9QH1ue"
      },
      "source": [
        "![image.png](attachment:1f4f7d51-a666-4419-a600-7b13ed414932.png)![download.png](attachment:194f9fa8-37d8-49b6-b29a-f142cb7925b5.png)"
      ]
    },
    {
      "cell_type": "markdown",
      "metadata": {
        "id": "HdP2f9fRH1ue"
      },
      "source": [
        "# Without Feature Engineering"
      ]
    },
    {
      "cell_type": "markdown",
      "metadata": {
        "id": "XyJ-ubTIH1uh"
      },
      "source": [
        "## Model Creation\n",
        "### Baseline Models"
      ]
    },
    {
      "cell_type": "markdown",
      "metadata": {
        "id": "32dsB8_zH1uh"
      },
      "source": [
        "### LogisticRegression"
      ]
    },
    {
      "cell_type": "code",
      "execution_count": null,
      "metadata": {
        "id": "TzIomZ0xH1uh"
      },
      "outputs": [],
      "source": [
        "fprs_list = []\n",
        "tprs_list = []\n",
        "model_names = []\n",
        "\n",
        "# LogisticRegression Model\n",
        "#Oversampling\n",
        "detector_over = Bank_Account_Fraud_Detection('data/')\n",
        "_ = detector_over.load_data('Base')\n",
        "detector_over.preprocess(option='option1', fet_eng=False)\n",
        "detector_over.handle_imbalance('Random-Oversampling')\n",
        "pred = detector_over.fit_baseline('LR')\n",
        "fprs, tprs = detector_over.evaluate(pred, 'LR Baseline with Random Oversampling')\n",
        "fprs_list.append(fprs)\n",
        "tprs_list.append(tprs)\n",
        "model_names.append('LR Baseline with Random Oversampling')\n",
        "\n",
        "#SMOTE\n",
        "detector_smote = Bank_Account_Fraud_Detection('data/')\n",
        "_ = detector_smote.load_data('Base')\n",
        "detector_smote.preprocess(option='option1', fet_eng=False)\n",
        "detector_smote.handle_imbalance('SMOTE')\n",
        "pred = detector_smote.fit_baseline('LR')\n",
        "fprs, tprs = detector_smote.evaluate(pred, 'LR Baseline with SMOTE')\n",
        "fprs_list.append(fprs)\n",
        "tprs_list.append(tprs)\n",
        "model_names.append('LR Baseline with SMOTE')\n",
        "\n",
        "\n",
        "#BorderlineSMOTE\n",
        "detector_bordersmote = Bank_Account_Fraud_Detection('data/')\n",
        "_ = detector_bordersmote.load_data('Base')\n",
        "detector_bordersmote.preprocess(option='option1', fet_eng=False)\n",
        "detector_bordersmote.handle_imbalance('Borderline-SMOTE')\n",
        "pred = detector_bordersmote.fit_baseline('LR')\n",
        "fprs, tprs = detector_bordersmote.evaluate(pred, 'LR Baseline with Borderline-SMOTE')\n",
        "fprs_list.append(fprs)\n",
        "tprs_list.append(tprs)\n",
        "model_names.append('LR Baseline with Borderline-SMOTE')\n",
        "\n",
        "#NearMiss\n",
        "detector_nearmiss = Bank_Account_Fraud_Detection('data/')\n",
        "_ = detector_nearmiss.load_data('Base')\n",
        "detector_nearmiss.preprocess(option='option1', fet_eng=False)\n",
        "detector_nearmiss.handle_imbalance('NearMiss')\n",
        "pred = detector_nearmiss.fit_baseline('LR')\n",
        "fprs, tprs = detector_nearmiss.evaluate(pred, 'LR Baseline with NearMiss')\n",
        "fprs_list.append(fprs)\n",
        "tprs_list.append(tprs)\n",
        "model_names.append('LR Baseline with NearMiss')\n",
        "\n",
        "#UnderSampling\n",
        "detector_under = Bank_Account_Fraud_Detection('data/')\n",
        "_ = detector_under.load_data('Base')\n",
        "detector_under.preprocess(option='option1', fet_eng=False)\n",
        "detector_under.handle_imbalance('Random-Undersampling')\n",
        "pred = detector_under.fit_baseline('LR')\n",
        "fprs, tprs = detector_under.evaluate(pred, 'LR Baseline with NearMiss')\n",
        "fprs_list.append(fprs)\n",
        "tprs_list.append(tprs)\n",
        "model_names.append('LR Baseline with NearMiss')\n",
        "\n",
        "# Plot all ROC curves together in one figure\n",
        "detector_under.plot_all_roc(fprs_list, tprs_list, model_names)"
      ]
    },
    {
      "cell_type": "markdown",
      "metadata": {
        "id": "ikE2vdshH1ui"
      },
      "source": [
        "### XGBClassifier"
      ]
    },
    {
      "cell_type": "code",
      "execution_count": null,
      "metadata": {
        "id": "FnlrWmFRH1ui"
      },
      "outputs": [],
      "source": [
        "fprs_list = []\n",
        "tprs_list = []\n",
        "model_names = []\n",
        "\n",
        "#XGBClassifier Model\n",
        "#Oversampling\n",
        "pred = detector_over.fit_baseline('XGB')\n",
        "fprs, tprs = detector_over.evaluate(pred, 'XGB Baseline with Random Oversampling')\n",
        "fprs_list.append(fprs)\n",
        "tprs_list.append(tprs)\n",
        "model_names.append('XGB Baseline with Random Oversampling')\n",
        "\n",
        "#SMOTE\n",
        "pred = detector_smote.fit_baseline('XGB')\n",
        "fprs, tprs = detector_smote.evaluate(pred, 'XGB Baseline with SMOTE')\n",
        "fprs_list.append(fprs)\n",
        "tprs_list.append(tprs)\n",
        "model_names.append('XGB Baseline with SMOTE')\n",
        "\n",
        "\n",
        "#BorderlineSMOTE\n",
        "pred = detector_bordersmote.fit_baseline('XGB')\n",
        "fprs, tprs = detector_bordersmote.evaluate(pred, 'XGB Baseline with Borderline-SMOTE')\n",
        "fprs_list.append(fprs)\n",
        "tprs_list.append(tprs)\n",
        "model_names.append('XGB Baseline with Borderline-SMOTE')\n",
        "\n",
        "#NearMiss\n",
        "pred = detector_nearmiss.fit_baseline('XGB')\n",
        "fprs, tprs = detector_nearmiss.evaluate(pred, 'XGB Baseline with NearMiss')\n",
        "fprs_list.append(fprs)\n",
        "tprs_list.append(tprs)\n",
        "model_names.append('XGB Baseline with NearMiss')\n",
        "\n",
        "#UnderSampling\n",
        "pred = detector_under.fit_baseline('XGB')\n",
        "fprs, tprs = detector_under.evaluate(pred, 'XGB Baseline with Random Undersampling')\n",
        "fprs_list.append(fprs)\n",
        "tprs_list.append(tprs)\n",
        "model_names.append('XGB Baseline with Random Undersampling')\n",
        "\n",
        "# Plot all ROC curves together in one figure\n",
        "detector_under.plot_all_roc(fprs_list, tprs_list, model_names)"
      ]
    },
    {
      "cell_type": "markdown",
      "metadata": {
        "id": "WtGW1pP_H1ui"
      },
      "source": [
        "### RandomForestClassifier"
      ]
    },
    {
      "cell_type": "code",
      "execution_count": null,
      "metadata": {
        "id": "b2Ts0CB9H1ui"
      },
      "outputs": [],
      "source": [
        "fprs_list = []\n",
        "tprs_list = []\n",
        "model_names = []\n",
        "#RandomForestClassifier Model\n",
        "#Oversampling\n",
        "pred = detector_over.fit_baseline('RF')\n",
        "fprs, tprs = detector_over.evaluate(pred, 'RF Baseline with Random Oversampling')\n",
        "fprs_list.append(fprs)\n",
        "tprs_list.append(tprs)\n",
        "model_names.append('RF Baseline with Random Oversampling')\n",
        "\n",
        "#SMOTE\n",
        "pred = detector_smote.fit_baseline('RF')\n",
        "fprs, tprs = detector_smote.evaluate(pred, 'RF Baseline with SMOTE')\n",
        "fprs_list.append(fprs)\n",
        "tprs_list.append(tprs)\n",
        "model_names.append('RF Baseline with SMOTE')\n",
        "\n",
        "\n",
        "#BorderlineSMOTE\n",
        "pred = detector_bordersmote.fit_baseline('RF')\n",
        "fprs, tprs = detector_bordersmote.evaluate(pred, 'RF Baseline with Borderline-SMOTE')\n",
        "fprs_list.append(fprs)\n",
        "tprs_list.append(tprs)\n",
        "model_names.append('RF Baseline with Borderline-SMOTE')\n",
        "\n",
        "#NearMiss\n",
        "pred = detector_nearmiss.fit_baseline('RF')\n",
        "fprs, tprs = detector_nearmiss.evaluate(pred, 'RF Baseline with NearMiss')\n",
        "fprs_list.append(fprs)\n",
        "tprs_list.append(tprs)\n",
        "model_names.append('RF Baseline with NearMiss')\n",
        "\n",
        "#UnderSampling\n",
        "pred = detector_under.fit_baseline('RF')\n",
        "fprs, tprs = detector_under.evaluate(pred, 'RF Baseline with Random Undersampling')\n",
        "fprs_list.append(fprs)\n",
        "tprs_list.append(tprs)\n",
        "model_names.append('RF Baseline with Random Undersampling')\n",
        "\n",
        "# Plot all ROC curves together in one figure\n",
        "detector_under.plot_all_roc(fprs_list, tprs_list, model_names)"
      ]
    },
    {
      "cell_type": "markdown",
      "metadata": {
        "id": "UhsEZZM9H1uj"
      },
      "source": [
        "![image.png](attachment:a762d710-2562-443d-96c6-ee2679cf0a56.png)"
      ]
    },
    {
      "cell_type": "markdown",
      "metadata": {
        "id": "LK_xiDLlH1uj"
      },
      "source": [
        "# Preprocessing with HyperTuning Without Feature Engineering\n",
        "I decided not to add Feature Engineering because I found good result without it <br>\n",
        "Each algorithm with the high result techniques that helping in bias"
      ]
    },
    {
      "cell_type": "markdown",
      "metadata": {
        "id": "cyZTVP6bH1uj"
      },
      "source": [
        "## LogisticRegression With OverSampling"
      ]
    },
    {
      "cell_type": "code",
      "execution_count": null,
      "metadata": {
        "id": "P2ToFY7TH1uj"
      },
      "outputs": [],
      "source": [
        "detector_over.train_logistic(\n",
        "    solver='sag',\n",
        "    penalty='l2',\n",
        "    C=0.1,\n",
        "    class_weight='balanced'  # You can keep this argument if needed\n",
        ")"
      ]
    },
    {
      "cell_type": "markdown",
      "metadata": {
        "id": "6yvFJexYH1uk"
      },
      "source": [
        "## XGBClassifier With UnderSampling"
      ]
    },
    {
      "cell_type": "code",
      "execution_count": null,
      "metadata": {
        "id": "T4q83iMwH1uk"
      },
      "outputs": [],
      "source": [
        "detector_under.train_XGB(\n",
        "    n_estimators=1000,\n",
        "    max_depth=11,\n",
        "    learning_rate=0.1,\n",
        "    gamma=0.5\n",
        ")"
      ]
    },
    {
      "cell_type": "code",
      "execution_count": null,
      "metadata": {
        "id": "MvBF6_3uH1uk"
      },
      "outputs": [],
      "source": [
        "detector_under.train_XGB(\n",
        "    n_estimators=1000,\n",
        "    max_depth=11,\n",
        "    learning_rate=0.05,\n",
        "    gamma=1\n",
        ")"
      ]
    },
    {
      "cell_type": "markdown",
      "metadata": {
        "id": "x8nO0RkjH1uk"
      },
      "source": [
        "## RandomForestClassifier With UnderSampling"
      ]
    },
    {
      "cell_type": "code",
      "execution_count": null,
      "metadata": {
        "id": "ro_Bk-rGH1uk"
      },
      "outputs": [],
      "source": [
        "detector_under.train_RF(n_estimators=100, max_features='log2', max_depth=10)"
      ]
    },
    {
      "cell_type": "markdown",
      "metadata": {
        "id": "DJntlfafH1ul"
      },
      "source": [
        "# Two Model with different Techiques\n",
        "we found that the most effective way is OverSampling so we use it in 2 model"
      ]
    },
    {
      "cell_type": "markdown",
      "metadata": {
        "id": "2UGyA5IAH1ul"
      },
      "source": [
        "## First Model (GBM with OverSampling)"
      ]
    },
    {
      "cell_type": "code",
      "execution_count": null,
      "metadata": {
        "id": "lYtihvEdH1ul"
      },
      "outputs": [],
      "source": [
        "predictions = detector_over.tune_GBM()"
      ]
    },
    {
      "cell_type": "code",
      "execution_count": null,
      "metadata": {
        "id": "MZlKht5uH1um"
      },
      "outputs": [],
      "source": [
        "detector_over.evaluate(predictions,\"GBM with OverSampling\")"
      ]
    },
    {
      "cell_type": "markdown",
      "metadata": {
        "id": "7rxJbP_6H1um"
      },
      "source": [
        "## Second Model (AdaBoost with OverSampling)"
      ]
    },
    {
      "cell_type": "code",
      "execution_count": null,
      "metadata": {
        "id": "vqzL4XKYH1um"
      },
      "outputs": [],
      "source": [
        "predictions = detector_over.tune_GBM('ada')"
      ]
    },
    {
      "cell_type": "code",
      "execution_count": null,
      "metadata": {
        "id": "agAkyEYlH1um"
      },
      "outputs": [],
      "source": [
        "detector_over.evaluate(predictions,\"Adaboost with OverSampling\")"
      ]
    },
    {
      "cell_type": "code",
      "execution_count": null,
      "metadata": {
        "id": "xAsI0B15H1uo"
      },
      "outputs": [],
      "source": [
        "_ = detector_over.fit_baseline('DNN')"
      ]
    }
  ],
  "metadata": {
    "colab": {
      "provenance": []
    },
    "kernelspec": {
      "display_name": "Python 3 (ipykernel)",
      "language": "python",
      "name": "python3"
    },
    "language_info": {
      "codemirror_mode": {
        "name": "ipython",
        "version": 3
      },
      "file_extension": ".py",
      "mimetype": "text/x-python",
      "name": "python",
      "nbconvert_exporter": "python",
      "pygments_lexer": "ipython3",
      "version": "3.9.16"
    }
  },
  "nbformat": 4,
  "nbformat_minor": 0
}